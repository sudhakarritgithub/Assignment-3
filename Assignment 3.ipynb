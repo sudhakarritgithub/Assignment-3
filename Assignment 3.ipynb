{
 "cells": [
  {
   "cell_type": "raw",
   "id": "f66e0e16-6f67-40b9-a380-21e5c2de367c",
   "metadata": {},
   "source": [
    "                                       ASSIGNMENT-3"
   ]
  },
  {
   "cell_type": "raw",
   "id": "c89a6fb4-ff29-4bc4-b43f-dd5959a91a10",
   "metadata": {},
   "source": []
  },
  {
   "cell_type": "markdown",
   "id": "bff8b14c-2960-435e-985e-b79ebee203db",
   "metadata": {},
   "source": [
    "Ques.1  Which keyword is used to create a function? Create a function to return a list of odd numbers in the\n",
    "        range of 1 to 25"
   ]
  },
  {
   "cell_type": "raw",
   "id": "5d037512-407c-420d-9726-4062a0f9e30b",
   "metadata": {},
   "source": [
    "In Python, the keyword used to create a function is def. Here's an example of a function that returns a list of odd numbers in the range of 1 to 25:"
   ]
  },
  {
   "cell_type": "code",
   "execution_count": 1,
   "id": "21b9a121-5691-411b-84e6-ee83abc5f186",
   "metadata": {},
   "outputs": [
    {
     "name": "stdout",
     "output_type": "stream",
     "text": [
      "[1, 3, 5, 7, 9, 11, 13, 15, 17, 19, 21, 23, 25]\n"
     ]
    }
   ],
   "source": [
    "def odd_numbers():\n",
    "    return [num for num in range(1, 26) if num % 2 != 0]\n",
    "\n",
    "# Calling the function to get the list of odd numbers\n",
    "result = odd_numbers()\n",
    "print(result)\n"
   ]
  },
  {
   "cell_type": "raw",
   "id": "979f1998-6bc8-404f-97f8-cb0c95de8451",
   "metadata": {},
   "source": []
  },
  {
   "cell_type": "raw",
   "id": "af290ba6-4bfe-412f-87c7-f5eca49576e7",
   "metadata": {},
   "source": [
    "Ques.2  Why *args and **kwargs is used in some functions? Create a function each for *args and **kwargs\n",
    "        to demonstrate their use."
   ]
  },
  {
   "cell_type": "raw",
   "id": "a9b3a9a3-134f-4348-8363-b91ae0260bf5",
   "metadata": {},
   "source": [
    "  *args and **kwargs are used in Python to handle variable numbers of arguments in functions.\n",
    "  *args allows a function to accept any number of positional arguments, storing them in a tuple.\n",
    "  **kwargs allows a function to accept any number of keyword arguments, storing them in a dictionary."
   ]
  },
  {
   "cell_type": "raw",
   "id": "43060794-de4c-4db4-8ec2-0f0631aea83e",
   "metadata": {},
   "source": [
    "   *args Example"
   ]
  },
  {
   "cell_type": "code",
   "execution_count": 2,
   "id": "34593d5e-2102-4470-abda-b54474860317",
   "metadata": {},
   "outputs": [],
   "source": [
    "def test(*args):\n",
    "    return args"
   ]
  },
  {
   "cell_type": "code",
   "execution_count": 4,
   "id": "c0f9b7c3-72bf-4c9f-930f-382ab8903580",
   "metadata": {},
   "outputs": [
    {
     "data": {
      "text/plain": [
       "tuple"
      ]
     },
     "execution_count": 4,
     "metadata": {},
     "output_type": "execute_result"
    }
   ],
   "source": [
    "type(test())"
   ]
  },
  {
   "cell_type": "code",
   "execution_count": 5,
   "id": "5b2a4a90-ab94-42f9-a05e-b304f40fdea4",
   "metadata": {},
   "outputs": [
    {
     "data": {
      "text/plain": [
       "(1, 5, 7, 8, 3, 4)"
      ]
     },
     "execution_count": 5,
     "metadata": {},
     "output_type": "execute_result"
    }
   ],
   "source": [
    "test(1,5,7,8,3,4,)"
   ]
  },
  {
   "cell_type": "raw",
   "id": "55dff483-d0d2-4460-b392-26f10f2799bf",
   "metadata": {},
   "source": [
    "    **kwargs Example"
   ]
  },
  {
   "cell_type": "code",
   "execution_count": 6,
   "id": "69b8f422-dca8-414c-b9df-5debc0ae5261",
   "metadata": {},
   "outputs": [],
   "source": [
    "def test1(**kwargs):\n",
    "    return kwargs"
   ]
  },
  {
   "cell_type": "code",
   "execution_count": 7,
   "id": "d3010f0b-9608-432c-b914-0c57323d597d",
   "metadata": {},
   "outputs": [
    {
     "data": {
      "text/plain": [
       "dict"
      ]
     },
     "execution_count": 7,
     "metadata": {},
     "output_type": "execute_result"
    }
   ],
   "source": [
    "type(test1())"
   ]
  },
  {
   "cell_type": "code",
   "execution_count": 8,
   "id": "d7a4be57-770b-4866-b524-a0e5493eb994",
   "metadata": {},
   "outputs": [
    {
     "data": {
      "text/plain": [
       "{'a': [1, 2, 3, 4, 5], 'b': 'sudhakar', 'c': 45.567}"
      ]
     },
     "execution_count": 8,
     "metadata": {},
     "output_type": "execute_result"
    }
   ],
   "source": [
    "test1(a=[1,2,3,4,5],b=\"sudhakar\",c=45.567)"
   ]
  },
  {
   "cell_type": "raw",
   "id": "b1cb8126-d0e5-4c6d-b262-e734fd815ce6",
   "metadata": {},
   "source": []
  },
  {
   "cell_type": "raw",
   "id": "0cc2d047-9188-4b85-a115-39444d8a6885",
   "metadata": {},
   "source": []
  },
  {
   "cell_type": "raw",
   "id": "26e2205f-61d8-433c-99ff-e776e533a170",
   "metadata": {},
   "source": [
    "Ques.3  What is an iterator in python? Name the method used to initialise the iterator object and the method\n",
    "        used for iteration. Use these methods to print the first five elements of the given list [2, 4, 6, 8, 10, 12, 14,\n",
    "        16, 18, 20]."
   ]
  },
  {
   "cell_type": "raw",
   "id": "2caf3b0f-c729-4113-ac80-aba38f59b431",
   "metadata": {},
   "source": [
    "In Python, an iterator is an object that enables traversal through a collection of elements. It implements two essential methods: __iter__() for initializing the iterator object and __next__() for iteration."
   ]
  },
  {
   "cell_type": "raw",
   "id": "2f6056eb-7a76-4360-8238-a919155431f9",
   "metadata": {},
   "source": [
    "To print the first five elements of the list [2, 4, 6, 8, 10, 12, 14, 16, 18, 20] using iterators, you can create an iterator object using the iter() method and then iterate through it using the next() method. Here's how you can do it:"
   ]
  },
  {
   "cell_type": "code",
   "execution_count": 9,
   "id": "5e608275-aeef-40f4-abf8-a4ea06f98cf7",
   "metadata": {},
   "outputs": [
    {
     "name": "stdout",
     "output_type": "stream",
     "text": [
      "2\n",
      "4\n",
      "6\n",
      "8\n",
      "10\n"
     ]
    }
   ],
   "source": [
    "# Initialize the list\n",
    "my_list = [2, 4, 6, 8, 10, 12, 14, 16, 18, 20]\n",
    "\n",
    "# Create an iterator object for the list\n",
    "my_iterator = iter(my_list)\n",
    "\n",
    "# Iterate through the first five elements using next() method\n",
    "for _ in range(5):\n",
    "    element = next(my_iterator)\n",
    "    print(element)\n"
   ]
  },
  {
   "cell_type": "raw",
   "id": "4bf34af8-58e8-4b41-93eb-069efd2d020c",
   "metadata": {},
   "source": []
  },
  {
   "cell_type": "raw",
   "id": "507842dd-398e-4524-95c3-61ad3f847bc6",
   "metadata": {},
   "source": []
  },
  {
   "cell_type": "raw",
   "id": "484f1e3c-e43e-4632-8555-a604f842649b",
   "metadata": {},
   "source": [
    "Ques.4  What is a generator function in python? Why yield keyword is used? Give an example of a generator function."
   ]
  },
  {
   "cell_type": "raw",
   "id": "74374636-5e8a-4b11-97a3-54380bdf64bc",
   "metadata": {},
   "source": [
    "A generator function in Python is a special type of function that generates a sequence of values using the yield keyword. Unlike regular functions that use return to provide a single result, generator functions use yield to produce a series of values, allowing iteration over the sequence.\n",
    "\n",
    "The yield statement pauses the function's execution and returns a value to the caller. When the function is called again, it resumes execution from where it left off, maintaining its internal state.\n",
    "\n",
    "Here's an example of a simple generator function that generates a sequence of squares:"
   ]
  },
  {
   "cell_type": "code",
   "execution_count": 10,
   "id": "e2c8e3d3-f72a-4e30-8d75-3c7fdfdbd10a",
   "metadata": {},
   "outputs": [
    {
     "name": "stdout",
     "output_type": "stream",
     "text": [
      "0\n",
      "1\n",
      "4\n",
      "9\n",
      "16\n"
     ]
    }
   ],
   "source": [
    "def square_generator(n):\n",
    "    for i in range(n):\n",
    "        yield i ** 2\n",
    "\n",
    "# Using the generator function\n",
    "squares = square_generator(5)\n",
    "\n",
    "# Iterating through the generator to retrieve values\n",
    "for square in squares:\n",
    "    print(square)\n"
   ]
  },
  {
   "cell_type": "raw",
   "id": "f5ac6319-c962-40ae-ba3c-2cce926af389",
   "metadata": {},
   "source": []
  },
  {
   "cell_type": "raw",
   "id": "d82b1ab7-2d4f-4c8e-adfb-4f9be12690d5",
   "metadata": {},
   "source": []
  },
  {
   "cell_type": "raw",
   "id": "e9475f84-6431-40f9-892e-ab3d7f232174",
   "metadata": {},
   "source": [
    "Ques.5  Create a generator function for prime numbers less than 1000. Use the next() method to print the first 20 prime           numbers."
   ]
  },
  {
   "cell_type": "code",
   "execution_count": 11,
   "id": "e3309bab-ed79-41ca-814d-c2790a7a6839",
   "metadata": {},
   "outputs": [
    {
     "name": "stdout",
     "output_type": "stream",
     "text": [
      "2\n",
      "3\n",
      "5\n",
      "7\n",
      "11\n",
      "13\n",
      "17\n",
      "19\n",
      "23\n",
      "29\n",
      "31\n",
      "37\n",
      "41\n",
      "43\n",
      "47\n",
      "53\n",
      "59\n",
      "61\n",
      "67\n",
      "71\n"
     ]
    }
   ],
   "source": [
    "def is_prime(n):\n",
    "    if n <= 1:\n",
    "        return False\n",
    "    for i in range(2, int(n ** 0.5) + 1):\n",
    "        if n % i == 0:\n",
    "            return False\n",
    "    return True\n",
    "\n",
    "def generate_primes():\n",
    "    num = 2\n",
    "    while num < 1000:\n",
    "        if is_prime(num):\n",
    "            yield num\n",
    "        num += 1\n",
    "\n",
    "prime_generator = generate_primes()\n",
    "for _ in range(20):\n",
    "    print(next(prime_generator))\n"
   ]
  },
  {
   "cell_type": "raw",
   "id": "c4c00949-bc05-4ac2-94ac-13a640092b4d",
   "metadata": {},
   "source": []
  },
  {
   "cell_type": "raw",
   "id": "82f8f0b4-036f-415e-b171-adcb74a7614d",
   "metadata": {},
   "source": []
  },
  {
   "cell_type": "raw",
   "id": "8ae52011-9b0b-459f-92a7-506ff6b09218",
   "metadata": {},
   "source": [
    "Ques.6  Write a python program to print the first 10 Fibonacci numbers using a while loop."
   ]
  },
  {
   "cell_type": "code",
   "execution_count": 19,
   "id": "ec58aab2-946e-4f83-9468-b9907e2b0bab",
   "metadata": {},
   "outputs": [
    {
     "name": "stdout",
     "output_type": "stream",
     "text": [
      "0\n",
      "1\n",
      "1\n",
      "2\n",
      "3\n",
      "5\n",
      "8\n",
      "13\n",
      "21\n",
      "34\n"
     ]
    }
   ],
   "source": [
    "# Initialize variables to store the first two numbers of the sequence\n",
    "a, b = 0, 1\n",
    "count = 0\n",
    "\n",
    "# Using a while loop to generate the first 10 Fibonacci numbers\n",
    "while count < 10:\n",
    "    print(a)\n",
    "    nth = a + b\n",
    "    # Update values for the next iteration\n",
    "    a = b\n",
    "    b = nth\n",
    "    count += 1\n"
   ]
  },
  {
   "cell_type": "raw",
   "id": "28065ddc-77b3-4972-8f0e-457c125c09d5",
   "metadata": {},
   "source": []
  },
  {
   "cell_type": "raw",
   "id": "152f6602-e9e4-4dfb-98d2-9921815568b1",
   "metadata": {},
   "source": []
  },
  {
   "cell_type": "raw",
   "id": "328e9b81-5758-48a3-948f-0ffc91878f57",
   "metadata": {},
   "source": [
    "Ques.7 . Write a List Comprehension to iterate through the given string: ‘pwskills’. Expected output: ['p', 'w', 's',              'k', 'i', 'l', 'l', 's']"
   ]
  },
  {
   "cell_type": "code",
   "execution_count": 20,
   "id": "acecf508-61d3-43c1-ac14-abb27411d4e5",
   "metadata": {},
   "outputs": [
    {
     "data": {
      "text/plain": [
       "['p', 'w', 's', 'k', 'i', 'l', 'l', 's']"
      ]
     },
     "execution_count": 20,
     "metadata": {},
     "output_type": "execute_result"
    }
   ],
   "source": [
    "s=\"pwskills\"\n",
    "list(map(lambda s:s.lower(),s))"
   ]
  },
  {
   "cell_type": "raw",
   "id": "1fd906f6-fcca-4b8d-a8a7-22a0889711af",
   "metadata": {},
   "source": []
  },
  {
   "cell_type": "raw",
   "id": "708e6bdd-e8f5-4aaa-a028-24055d755382",
   "metadata": {},
   "source": []
  },
  {
   "cell_type": "raw",
   "id": "81133e78-0304-4ea3-ad05-95ee02c68297",
   "metadata": {},
   "source": [
    "Ques.8  Write a python program to check whether a given number is Palindrome or not using a while loop."
   ]
  },
  {
   "cell_type": "code",
   "execution_count": 21,
   "id": "f24de3c8-d4ce-4fb1-8343-85b65872de63",
   "metadata": {},
   "outputs": [
    {
     "name": "stdin",
     "output_type": "stream",
     "text": [
      "Enter a number:  50\n"
     ]
    },
    {
     "name": "stdout",
     "output_type": "stream",
     "text": [
      "50 is not a palindrome.\n"
     ]
    }
   ],
   "source": [
    "def is_palindrome(num):\n",
    "    original_num = num\n",
    "    reversed_num = 0\n",
    "    \n",
    "    while num > 0:\n",
    "        digit = num % 10\n",
    "        reversed_num = (reversed_num * 10) + digit\n",
    "        num = num // 10\n",
    "    \n",
    "    if original_num == reversed_num:\n",
    "        return True\n",
    "    else:\n",
    "        return False\n",
    "\n",
    "# Input a number\n",
    "number = int(input(\"Enter a number: \"))\n",
    "\n",
    "if is_palindrome(number):\n",
    "    print(f\"{number} is a palindrome!\")\n",
    "else:\n",
    "    print(f\"{number} is not a palindrome.\")\n"
   ]
  },
  {
   "cell_type": "raw",
   "id": "cae647be-8cbb-4d56-a070-6f070094a82d",
   "metadata": {},
   "source": []
  },
  {
   "cell_type": "raw",
   "id": "ca5d4fca-1633-4457-97a8-47779800f388",
   "metadata": {},
   "source": []
  },
  {
   "cell_type": "raw",
   "id": "a51c2a26-594b-497d-9bf3-21d554854f24",
   "metadata": {},
   "source": [
    "Ques.9 Write a code to print odd numbers from 1 to 100 using list comprehension.\n",
    "       Note: Use a list comprehension to create a list from 1 to 100 and use another List comprehension to filter\n",
    "             out odd numbers"
   ]
  },
  {
   "cell_type": "code",
   "execution_count": 22,
   "id": "fc065f31-416b-464f-bb94-5a057498b76a",
   "metadata": {},
   "outputs": [
    {
     "name": "stdout",
     "output_type": "stream",
     "text": [
      "[1, 3, 5, 7, 9, 11, 13, 15, 17, 19, 21, 23, 25, 27, 29, 31, 33, 35, 37, 39, 41, 43, 45, 47, 49, 51, 53, 55, 57, 59, 61, 63, 65, 67, 69, 71, 73, 75, 77, 79, 81, 83, 85, 87, 89, 91, 93, 95, 97, 99]\n"
     ]
    }
   ],
   "source": [
    "# List comprehension to filter odd numbers from 1 to 100\n",
    "odd_numbers = [num for num in range(1, 101) if num % 2 != 0]\n",
    "\n",
    "# Printing the list of odd numbers\n",
    "print(odd_numbers)\n"
   ]
  },
  {
   "cell_type": "code",
   "execution_count": null,
   "id": "ee2154c6-3cd6-464b-9656-aed26aa3f541",
   "metadata": {},
   "outputs": [],
   "source": []
  }
 ],
 "metadata": {
  "kernelspec": {
   "display_name": "Python 3 (ipykernel)",
   "language": "python",
   "name": "python3"
  },
  "language_info": {
   "codemirror_mode": {
    "name": "ipython",
    "version": 3
   },
   "file_extension": ".py",
   "mimetype": "text/x-python",
   "name": "python",
   "nbconvert_exporter": "python",
   "pygments_lexer": "ipython3",
   "version": "3.10.8"
  }
 },
 "nbformat": 4,
 "nbformat_minor": 5
}
